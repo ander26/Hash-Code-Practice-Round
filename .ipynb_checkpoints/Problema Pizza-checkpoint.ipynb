{
 "cells": [
  {
   "cell_type": "code",
   "execution_count": 43,
   "metadata": {},
   "outputs": [],
   "source": [
    "from itertools import combinations "
   ]
  },
  {
   "cell_type": "code",
   "execution_count": 21,
   "metadata": {},
   "outputs": [],
   "source": [
    "def read_file(filepath):\n",
    "    data = open(filepath, \"r\")\n",
    "    lines = data.readlines()\n",
    "    counter = 0\n",
    "    for line in lines:\n",
    "        line_data = line.strip().split(\" \")\n",
    "        if counter == 0:\n",
    "            slices = int(line_data[0])\n",
    "            types = int(line_data[1])\n",
    "        else:\n",
    "            pizzas = line_data\n",
    "        counter += 1\n",
    "    return slices, types, pizzas"
   ]
  },
  {
   "cell_type": "code",
   "execution_count": 22,
   "metadata": {},
   "outputs": [],
   "source": [
    "slices, types, pizzas = read_file (\"./a_example.in\")"
   ]
  },
  {
   "cell_type": "code",
   "execution_count": 23,
   "metadata": {},
   "outputs": [
    {
     "name": "stdout",
     "output_type": "stream",
     "text": [
      "Maximum number of slices: 17\n"
     ]
    }
   ],
   "source": [
    "print (\"Maximum number of slices: \" + str (slices))"
   ]
  },
  {
   "cell_type": "code",
   "execution_count": 24,
   "metadata": {},
   "outputs": [
    {
     "name": "stdout",
     "output_type": "stream",
     "text": [
      "Different types of pizza: 4\n"
     ]
    }
   ],
   "source": [
    "print (\"Different types of pizza: \" + str(types))"
   ]
  },
  {
   "cell_type": "code",
   "execution_count": 25,
   "metadata": {},
   "outputs": [
    {
     "name": "stdout",
     "output_type": "stream",
     "text": [
      "Slices for each pizza: ['2', '5', '6', '8']\n"
     ]
    }
   ],
   "source": [
    "print (\"Slices for each pizza: \" +  str(pizzas))"
   ]
  },
  {
   "cell_type": "code",
   "execution_count": 39,
   "metadata": {},
   "outputs": [],
   "source": [
    "def resolve_problem (slices, types, pizzas): \n",
    "    best_solution = []\n",
    "    maximum:solution = 0\n",
    "    for i in range(types,0,-1):\n",
    "        print(i)\n",
    "        comb = combinations(range(0, types-1), 2) \n",
    "        for i in list(comb): \n",
    "            print (fitness_function(pizzas, i))\n",
    "    return best_solution"
   ]
  },
  {
   "cell_type": "code",
   "execution_count": 40,
   "metadata": {},
   "outputs": [],
   "source": [
    "def fitness_function (pizzas, order_index):\n",
    "    slices = 0\n",
    "    for index in order_index:\n",
    "        slices += pizzas[index]\n",
    "    return slices"
   ]
  },
  {
   "cell_type": "code",
   "execution_count": 41,
   "metadata": {},
   "outputs": [],
   "source": [
    "def write_result (name_file, ordered_pizzas): \n",
    "    file = open(name_file + \".txt\", \"x\")\n",
    "    file.write(str(len(ordered_pizzas)) + \"\\n\")\n",
    "    counter = 0\n",
    "    for pizza in ordered_pizzas:\n",
    "        file.write(str(pizza))\n",
    "        if counter != len(ordered_pizzas) -1: \n",
    "            file.write(\" \")\n",
    "        counter +=1\n",
    "    \n",
    "    "
   ]
  },
  {
   "cell_type": "code",
   "execution_count": 42,
   "metadata": {},
   "outputs": [
    {
     "name": "stdout",
     "output_type": "stream",
     "text": [
      "3\n",
      "2\n"
     ]
    }
   ],
   "source": [
    "resolve_problem(slices, types, pizzas)"
   ]
  },
  {
   "cell_type": "code",
   "execution_count": null,
   "metadata": {},
   "outputs": [],
   "source": []
  }
 ],
 "metadata": {
  "kernelspec": {
   "display_name": "Python 3",
   "language": "python",
   "name": "python3"
  },
  "language_info": {
   "codemirror_mode": {
    "name": "ipython",
    "version": 3
   },
   "file_extension": ".py",
   "mimetype": "text/x-python",
   "name": "python",
   "nbconvert_exporter": "python",
   "pygments_lexer": "ipython3",
   "version": "3.6.8"
  }
 },
 "nbformat": 4,
 "nbformat_minor": 2
}
